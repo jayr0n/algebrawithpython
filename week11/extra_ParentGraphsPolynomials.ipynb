{
 "cells": [
  {
   "cell_type": "code",
   "execution_count": 1,
   "id": "85959410-1df5-4a61-b179-666d192cd800",
   "metadata": {},
   "outputs": [
    {
     "data": {
      "application/vnd.jupyter.widget-view+json": {
       "model_id": "67e5a8f62a1d4a138d976ac5a3db5c21",
       "version_major": 2,
       "version_minor": 0
      },
      "text/plain": [
       "interactive(children=(IntSlider(value=0, description='a', max=9, min=-9), IntSlider(value=50, description='zoo…"
      ]
     },
     "execution_count": 1,
     "metadata": {},
     "output_type": "execute_result"
    }
   ],
   "source": [
    "%matplotlib inline\n",
    "from ipywidgets import interactive\n",
    "import matplotlib.pyplot as plt\n",
    "import numpy as np\n",
    "\n",
    "# Define the graphing function\n",
    "def f(a, zoom):\n",
    "    xmin = -zoom\n",
    "    xmax = zoom\n",
    "    ymin = -zoom\n",
    "    ymax = zoom\n",
    "    points = 10*xmax-xmin\n",
    "    x = np.linspace(xmin, xmax, points)\n",
    "\n",
    "    plt.axis([xmin,xmax,ymin,ymax]) # window size\n",
    "    plt.plot([xmin,xmax],[0,0],'black') # black x axis\n",
    "    plt.plot([0,0],[ymin,ymax], 'black') # black y axis\n",
    "    \n",
    "    # Line 1\n",
    "    y1 = a\n",
    "    y2 = a\n",
    "    plt.plot([xmin,xmax], [y1,y2])\n",
    "    plt.show()\n",
    "\n",
    "# Set up the sliders\n",
    "interactive_plot = interactive(f, a=(-9, 9), zoom=(1,100))\n",
    "interactive_plot"
   ]
  },
  {
   "cell_type": "code",
   "execution_count": 2,
   "id": "3b9a3b8e-2482-4c47-a039-65eb9ad1832f",
   "metadata": {},
   "outputs": [
    {
     "data": {
      "application/vnd.jupyter.widget-view+json": {
       "model_id": "73cbefbcf6e74f4d9606662a29f5b8eb",
       "version_major": 2,
       "version_minor": 0
      },
      "text/plain": [
       "interactive(children=(IntSlider(value=0, description='m', max=9, min=-9), IntSlider(value=0, description='b', …"
      ]
     },
     "execution_count": 2,
     "metadata": {},
     "output_type": "execute_result"
    }
   ],
   "source": [
    "%matplotlib inline\n",
    "from ipywidgets import interactive\n",
    "import matplotlib.pyplot as plt\n",
    "import numpy as np\n",
    "\n",
    "# Define the graphing function\n",
    "def f(m,b,zoom):\n",
    "    xmin = -zoom\n",
    "    xmax = zoom\n",
    "    ymin = -zoom\n",
    "    ymax = zoom\n",
    "    points = 10*xmax-xmin\n",
    "    x = np.linspace(xmin, xmax, points)\n",
    "\n",
    "    plt.axis([xmin,xmax,ymin,ymax]) # window size\n",
    "    plt.plot([xmin,xmax],[0,0],'black') # black x axis\n",
    "    plt.plot([0,0],[ymin,ymax], 'black') # black y axis\n",
    "\n",
    "    plt.xticks(np.arange(xmin, xmax, 5))\n",
    "    plt.yticks(np.arange(ymin, ymax, 5))\n",
    "    # Line 1\n",
    "    y1 = m*x + b\n",
    "    plt.grid(True)\n",
    "    plt.plot(x, y1)\n",
    "    plt.show()\n",
    "\n",
    "# Set up the sliders\n",
    "interactive_plot = interactive(f, m=(-9, 9), b=(-9, 9), zoom=(1,100))\n",
    "interactive_plot\n"
   ]
  },
  {
   "cell_type": "code",
   "execution_count": 3,
   "id": "0d3aa849-46a9-4791-9ca0-76035dce96f2",
   "metadata": {},
   "outputs": [
    {
     "data": {
      "application/vnd.jupyter.widget-view+json": {
       "model_id": "ab50a6bce9b2404082a68eab0b583b1e",
       "version_major": 2,
       "version_minor": 0
      },
      "text/plain": [
       "interactive(children=(IntSlider(value=0, description='a', max=9, min=-9), IntSlider(value=0, description='b', …"
      ]
     },
     "execution_count": 3,
     "metadata": {},
     "output_type": "execute_result"
    }
   ],
   "source": [
    "# sliders and zoom\n",
    "# y = ax**2 + bx + c\n",
    "\n",
    "%matplotlib inline\n",
    "from ipywidgets import interactive\n",
    "import matplotlib.pyplot as plt\n",
    "import numpy as np\n",
    "\n",
    "# Define the graphing function\n",
    "def f(a,b,c,zoom):\n",
    "    xmin = -zoom\n",
    "    xmax = zoom\n",
    "    ymin = -zoom\n",
    "    ymax = zoom\n",
    "    points = 10*xmax-xmin\n",
    "    x = np.linspace(xmin, xmax, points)\n",
    "\n",
    "    plt.axis([xmin,xmax,ymin,ymax]) # window size\n",
    "    plt.plot([xmin,xmax],[0,0],'black') # black x axis\n",
    "    plt.plot([0,0],[ymin,ymax], 'black') # black y axis\n",
    "    \n",
    "    # Line 1\n",
    "    y1 = a*x**2 + b*x + c\n",
    "    plt.grid(True)\n",
    "    plt.plot(x, y1)\n",
    "    plt.show()\n",
    "\n",
    "# Set up the sliders\n",
    "interactive_plot = interactive(f, a=(-9, 9),b=(-9, 9),c=(-9, 9),zoom=(1,100))\n",
    "interactive_plot"
   ]
  },
  {
   "cell_type": "code",
   "execution_count": 4,
   "id": "0bb264d0-01c7-4b13-8792-ea6c1a585801",
   "metadata": {},
   "outputs": [
    {
     "data": {
      "application/vnd.jupyter.widget-view+json": {
       "model_id": "4c2d7221cdf24e47850d7a0a2efa05de",
       "version_major": 2,
       "version_minor": 0
      },
      "text/plain": [
       "interactive(children=(IntSlider(value=0, description='a', max=9, min=-9), IntSlider(value=0, description='b', …"
      ]
     },
     "execution_count": 4,
     "metadata": {},
     "output_type": "execute_result"
    }
   ],
   "source": [
    "%matplotlib inline\n",
    "from ipywidgets import interactive\n",
    "import matplotlib.pyplot as plt\n",
    "import numpy as np\n",
    "\n",
    "# Define the graphing function\n",
    "def f(a,b,c,zoom):\n",
    "    xmin = -zoom\n",
    "    xmax = zoom\n",
    "    ymin = -zoom\n",
    "    ymax = zoom\n",
    "    points = 10*xmax-xmin\n",
    "    x = np.linspace(xmin, xmax, points)\n",
    "\n",
    "    plt.axis([xmin,xmax,ymin,ymax]) # window size\n",
    "    plt.plot([xmin,xmax],[0,0],'black') # black x axis\n",
    "    plt.plot([0,0],[ymin,ymax], 'black') # black y axis\n",
    "    \n",
    "    # Line 1\n",
    "    y1 = a*abs(x-b) + c\n",
    "    plt.plot(x, y1)\n",
    "    plt.show()\n",
    "\n",
    "# Set up the sliders\n",
    "interactive_plot = interactive(f, a=(-9, 9),b=(-9, 9),c=(-9, 9),zoom=(1,100))\n",
    "interactive_plot"
   ]
  },
  {
   "cell_type": "code",
   "execution_count": 8,
   "id": "cc5ca897-bd46-40ed-a93a-1ceccfcf0608",
   "metadata": {},
   "outputs": [
    {
     "data": {
      "application/vnd.jupyter.widget-view+json": {
       "model_id": "42e5488bbd74448fad28d3790ed80f01",
       "version_major": 2,
       "version_minor": 0
      },
      "text/plain": [
       "interactive(children=(IntSlider(value=0, description='a', max=9, min=-9), IntSlider(value=0, description='b', …"
      ]
     },
     "execution_count": 8,
     "metadata": {},
     "output_type": "execute_result"
    }
   ],
   "source": [
    "%matplotlib inline\n",
    "from ipywidgets import interactive\n",
    "import matplotlib.pyplot as plt\n",
    "import numpy as np\n",
    "\n",
    "# Define the graphing function\n",
    "def f(a,b,c,zoom):\n",
    "    xmin = -zoom\n",
    "    xmax = zoom\n",
    "    ymin = -zoom\n",
    "    ymax = zoom\n",
    "    points = 10*xmax-xmin\n",
    "    x = np.linspace(xmin, xmax, points)\n",
    "\n",
    "    plt.axis([xmin,xmax,ymin,ymax]) # window size\n",
    "    plt.plot([xmin,xmax],[0,0],'black') # black x axis\n",
    "    plt.plot([0,0],[ymin,ymax], 'black') # black y axis\n",
    "    \n",
    "    # Line 1\n",
    "    y1 = a*np.sqrt(x-b) + c\n",
    "    plt.plot(x, y1)\n",
    "    plt.show()\n",
    "\n",
    "# Set up the sliders\n",
    "interactive_plot = interactive(f, a=(-9, 9),b=(-9, 9),c=(-9, 9),zoom=(1,100))\n",
    "interactive_plot"
   ]
  },
  {
   "cell_type": "code",
   "execution_count": 9,
   "id": "722a3fba-06a9-415c-aa76-83bd7376d7bb",
   "metadata": {},
   "outputs": [
    {
     "data": {
      "application/vnd.jupyter.widget-view+json": {
       "model_id": "5fba416844224e18b456ba4b21882aba",
       "version_major": 2,
       "version_minor": 0
      },
      "text/plain": [
       "interactive(children=(IntSlider(value=0, description='a', max=9, min=-9), IntSlider(value=0, description='b', …"
      ]
     },
     "execution_count": 9,
     "metadata": {},
     "output_type": "execute_result"
    }
   ],
   "source": [
    "# sliders and zoom\n",
    "# y = x**3 + ...\n",
    "\n",
    "%matplotlib inline\n",
    "from ipywidgets import interactive\n",
    "import matplotlib.pyplot as plt\n",
    "import numpy as np\n",
    "\n",
    "# Define the graphing function\n",
    "def f(a,b,c,d,zoom):\n",
    "    xmin = -zoom\n",
    "    xmax = zoom\n",
    "    ymin = -zoom\n",
    "    ymax = zoom\n",
    "    points = 10*xmax-xmin\n",
    "    x = np.linspace(xmin, xmax, points)\n",
    "\n",
    "    plt.axis([xmin,xmax,ymin,ymax]) # window size\n",
    "    plt.plot([xmin,xmax],[0,0],'black') # black x axis\n",
    "    plt.plot([0,0],[ymin,ymax], 'black') # black y axis\n",
    "    \n",
    "    # Line 1\n",
    "    y1 = a*x**3 + b*x**2 + c*x + d\n",
    "    plt.plot(x, y1)\n",
    "    plt.show()\n",
    "\n",
    "# Set up the sliders\n",
    "i_plot = interactive(f, a=(-9, 9),b=(-9, 9),c=(-9, 9),d=(-9, 9),zoom=(1,100))\n",
    "i_plot"
   ]
  },
  {
   "cell_type": "code",
   "execution_count": 10,
   "id": "2779689f-3d01-41f9-b471-c19178e5232e",
   "metadata": {},
   "outputs": [
    {
     "data": {
      "application/vnd.jupyter.widget-view+json": {
       "model_id": "5ba2c92ceac8450caa43858b41593e0e",
       "version_major": 2,
       "version_minor": 0
      },
      "text/plain": [
       "interactive(children=(IntSlider(value=0, description='a', max=9, min=-9), IntSlider(value=0, description='b', …"
      ]
     },
     "execution_count": 10,
     "metadata": {},
     "output_type": "execute_result"
    }
   ],
   "source": [
    "# sliders and zoom\n",
    "# y = x**4 + ...\n",
    "\n",
    "%matplotlib inline\n",
    "from ipywidgets import interactive\n",
    "import matplotlib.pyplot as plt\n",
    "import numpy as np\n",
    "\n",
    "# Define the graphing function\n",
    "def f(a,b,c,d,e,zoom):\n",
    "    xmin = -zoom\n",
    "    xmax = zoom\n",
    "    ymin = -zoom\n",
    "    ymax = zoom\n",
    "    points = 10*xmax-xmin\n",
    "    x = np.linspace(xmin, xmax, points)\n",
    "\n",
    "    plt.axis([xmin,xmax,ymin,ymax]) # window size\n",
    "    plt.plot([xmin,xmax],[0,0],'black') # black x axis\n",
    "    plt.plot([0,0],[ymin,ymax], 'black') # black y axis\n",
    "    \n",
    "    # Line 1\n",
    "    y1 = a*x**4 + b*x**3 + c*x**2 + d*x + e\n",
    "    plt.plot(x, y1)\n",
    "    plt.show()\n",
    "\n",
    "# Set up the sliders\n",
    "i_plot=interactive(f,a=(-9,9),b=(-9,9),c=(-9,9),d=(-9,9),e=(-9,9),zoom=(1,100))\n",
    "i_plot"
   ]
  },
  {
   "cell_type": "code",
   "execution_count": null,
   "id": "6031fe25-27a0-4c40-b9a0-8bce31cc9aad",
   "metadata": {},
   "outputs": [],
   "source": []
  }
 ],
 "metadata": {
  "kernelspec": {
   "display_name": "Python 3 (ipykernel)",
   "language": "python",
   "name": "python3"
  },
  "language_info": {
   "codemirror_mode": {
    "name": "ipython",
    "version": 3
   },
   "file_extension": ".py",
   "mimetype": "text/x-python",
   "name": "python",
   "nbconvert_exporter": "python",
   "pygments_lexer": "ipython3",
   "version": "3.12.1"
  }
 },
 "nbformat": 4,
 "nbformat_minor": 5
}
