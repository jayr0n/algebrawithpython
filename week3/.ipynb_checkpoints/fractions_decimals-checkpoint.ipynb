{
 "cells": [
  {
   "cell_type": "markdown",
   "id": "9f15e22b-8f7e-47e9-a543-7516fc68836a",
   "metadata": {},
   "source": [
    "# Positive and negative exponents"
   ]
  },
  {
   "cell_type": "markdown",
   "id": "f163fe2c-ab79-46c2-8d69-250c4bc100e1",
   "metadata": {},
   "source": [
    "Negatives exponents:<br>\n",
    "$\\frac{n1}{d1}=\\frac{n2}{d2}$"
   ]
  },
  {
   "cell_type": "markdown",
   "id": "12641df0-b16e-45c7-89b7-6e7215378f46",
   "metadata": {},
   "source": [
    "Set up a proportion:<br>\n",
    "$10^-2 = \\frac{1}^2{10}^2 = \\frac{1}{10} * \\frac{1}{10} $"
   ]
  },
  {
   "cell_type": "code",
   "execution_count": 1,
   "id": "585d8a1f-bf13-4f27-91c8-802f2737346b",
   "metadata": {},
   "outputs": [
    {
     "name": "stdout",
     "output_type": "stream",
     "text": [
      "10\n",
      "100\n",
      "1000\n",
      "1\n",
      "0.1\n",
      "0.01\n",
      "0.001\n"
     ]
    }
   ],
   "source": [
    "print(10**1)\n",
    "print(10**2)\n",
    "print(10**3)\n",
    "\n",
    "print(10**0)\n",
    "\n",
    "print(10**-1)\n",
    "print(10**-2)\n",
    "print(10**-3)"
   ]
  },
  {
   "cell_type": "code",
   "execution_count": null,
   "id": "1d64f403-cf50-4d89-9eca-451a4ff9960d",
   "metadata": {},
   "outputs": [],
   "source": []
  }
 ],
 "metadata": {
  "kernelspec": {
   "display_name": "Python 3 (ipykernel)",
   "language": "python",
   "name": "python3"
  },
  "language_info": {
   "codemirror_mode": {
    "name": "ipython",
    "version": 3
   },
   "file_extension": ".py",
   "mimetype": "text/x-python",
   "name": "python",
   "nbconvert_exporter": "python",
   "pygments_lexer": "ipython3",
   "version": "3.10.8"
  }
 },
 "nbformat": 4,
 "nbformat_minor": 5
}
