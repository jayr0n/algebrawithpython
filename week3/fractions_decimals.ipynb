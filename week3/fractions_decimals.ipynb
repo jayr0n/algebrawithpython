{
 "cells": [
  {
   "cell_type": "markdown",
   "id": "9f15e22b-8f7e-47e9-a543-7516fc68836a",
   "metadata": {},
   "source": [
    "# Positive and negative exponents"
   ]
  },
  {
   "cell_type": "markdown",
   "id": "1e570877-3cd0-4bb1-b019-329f8f3b9a61",
   "metadata": {},
   "source": [
    "<h2> Positive exponents </h2>"
   ]
  },
  {
   "cell_type": "code",
   "execution_count": 4,
   "id": "585d8a1f-bf13-4f27-91c8-802f2737346b",
   "metadata": {},
   "outputs": [
    {
     "name": "stdout",
     "output_type": "stream",
     "text": [
      "10\n",
      "100\n",
      "1000\n",
      "1\n"
     ]
    }
   ],
   "source": [
    "print(10**1)\n",
    "print(10**2)\n",
    "print(10**3)\n",
    "\n",
    "print(10**0)"
   ]
  },
  {
   "cell_type": "markdown",
   "id": "12641df0-b16e-45c7-89b7-6e7215378f46",
   "metadata": {},
   "source": [
    "<h2>Negative exponentes:</h2>\n",
    "${10^{-2}}=\\frac{1^{2}}{10^{2}} = \\frac{1}{10} {*} \\frac{1}{10} = \\frac{1}{100} = 0.01$"
   ]
  },
  {
   "cell_type": "code",
   "execution_count": 5,
   "id": "1d64f403-cf50-4d89-9eca-451a4ff9960d",
   "metadata": {},
   "outputs": [
    {
     "name": "stdout",
     "output_type": "stream",
     "text": [
      "0.1\n",
      "0.01\n",
      "0.001\n"
     ]
    }
   ],
   "source": [
    "print(10**-1)\n",
    "print(10**-2)\n",
    "print(10**-3)"
   ]
  },
  {
   "cell_type": "code",
   "execution_count": 11,
   "id": "3a07ba55-3d24-4348-988c-a10d5c0e41fe",
   "metadata": {},
   "outputs": [
    {
     "name": "stdin",
     "output_type": "stream",
     "text": [
      "Enter a decimal number to convert:  .33\n"
     ]
    },
    {
     "name": "stdout",
     "output_type": "stream",
     "text": [
      "The decimal is  0.33\n",
      "The fraction is  33 / 100\n",
      "The percent is  33.0  %\n"
     ]
    }
   ],
   "source": [
    "# Get string input, which will include a decimal point\n",
    "digits = input(\"Enter a decimal number to convert: \") # 0.33\n",
    "\n",
    "# Get number of decimal places as an integer\n",
    "exponent = int(len(digits))-1 # 3\n",
    "\n",
    "# Convert the input to a float number\n",
    "n = float(digits) # 0.33\n",
    "\n",
    "# Use the exponent to get the numerator\n",
    "numerator = int(n * 10**exponent) # 330\n",
    "\n",
    "# Use the expoent to get the denominator\n",
    "denominator = 10**exponent  # 3\n",
    "\n",
    "# percent is the first two decimal places\n",
    "percent = n * 100 # 33.0\n",
    " \n",
    "\n",
    "# Output\n",
    "print(\"The decimal is \", n)\n",
    "print(\"The fraction is \", numerator, \"/\", denominator)\n",
    "print(\"The percent is \", percent, \" %\")\n",
    "\n"
   ]
  },
  {
   "cell_type": "code",
   "execution_count": null,
   "id": "c9d35545-c8ad-4cce-a1e5-3e7ac3775df8",
   "metadata": {},
   "outputs": [],
   "source": []
  }
 ],
 "metadata": {
  "kernelspec": {
   "display_name": "Python 3 (ipykernel)",
   "language": "python",
   "name": "python3"
  },
  "language_info": {
   "codemirror_mode": {
    "name": "ipython",
    "version": 3
   },
   "file_extension": ".py",
   "mimetype": "text/x-python",
   "name": "python",
   "nbconvert_exporter": "python",
   "pygments_lexer": "ipython3",
   "version": "3.10.8"
  }
 },
 "nbformat": 4,
 "nbformat_minor": 5
}
