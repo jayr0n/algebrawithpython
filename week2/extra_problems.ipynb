{
 "cells": [
  {
   "cell_type": "markdown",
   "id": "0b8d3b35-1165-48bc-b85c-180b6d6d6ca6",
   "metadata": {},
   "source": [
    "# Prompt for someone to enter the equation, then solve"
   ]
  },
  {
   "cell_type": "code",
   "execution_count": 1,
   "id": "17e9a234-129a-484c-939c-8e5df9321beb",
   "metadata": {},
   "outputs": [
    {
     "name": "stdin",
     "output_type": "stream",
     "text": [
      "Enter equation: 0 =  2**x - 4\n"
     ]
    },
    {
     "name": "stdout",
     "output_type": "stream",
     "text": [
      "x =  [2]\n"
     ]
    }
   ],
   "source": [
    "import sympy\n",
    "from sympy import symbols\n",
    "from sympy.solvers import solve\n",
    "\n",
    "x = symbols('x')\n",
    "eq = input('Enter equation: 0 = ')\n",
    "\n",
    "print(\"x = \", solve(eq,x))"
   ]
  },
  {
   "cell_type": "markdown",
   "id": "91b9d8b2-8ce1-4387-84ae-1e6507dee75a",
   "metadata": {},
   "source": [
    "# Multiple answers"
   ]
  },
  {
   "cell_type": "code",
   "execution_count": 2,
   "id": "ed1d8a76-b1fa-46cb-a245-04d318e016a3",
   "metadata": {},
   "outputs": [
    {
     "name": "stdin",
     "output_type": "stream",
     "text": [
      "Enter equation: 0 =  (x-1)*(x+2)*(x-3)\n"
     ]
    },
    {
     "name": "stdout",
     "output_type": "stream",
     "text": [
      "x =  -2\n",
      "x =  1\n",
      "x =  3\n"
     ]
    }
   ],
   "source": [
    "import sympy \n",
    "from sympy import symbols \n",
    "from sympy.solvers import solve \n",
    "\n",
    "x = symbols('x') \n",
    "\n",
    "eq = input('Enter equation: 0 = ')\n",
    "\n",
    "solution = solve(eq,x)\n",
    "for s in solution:\n",
    "    print(\"x = \", s)"
   ]
  },
  {
   "cell_type": "markdown",
   "id": "733901f5-db89-4fcb-ba85-6ba21bac3c38",
   "metadata": {},
   "source": [
    "# Solving in other ways"
   ]
  },
  {
   "cell_type": "code",
   "execution_count": 14,
   "id": "7a21ab22-332a-4f0f-9bc9-ef1c0225f011",
   "metadata": {},
   "outputs": [
    {
     "name": "stdout",
     "output_type": "stream",
     "text": [
      "x =  [2*x - 6]\n",
      "Eq(2*x - y, 6)\n"
     ]
    }
   ],
   "source": [
    "from sympy import *\n",
    "\n",
    "\n",
    "var('x y') \n",
    "\n",
    "# First equation set equal to zero, ready to solve\n",
    "first = 2*x - y\n",
    "\n",
    "# Sympy syntax for equation equal to zero, ready to factor\n",
    "eq1 = Eq(first,6) \n",
    "\n",
    "# Sympy solve for x\n",
    "sol = solve(eq1,y) \n",
    "\n",
    "# Show factored results\n",
    "print(\"x = \", sol)\n",
    "print(eq1)"
   ]
  },
  {
   "cell_type": "markdown",
   "id": "3bd6e657-f7c6-462c-a04f-169a4dadcc98",
   "metadata": {},
   "source": [
    "# Factoring"
   ]
  },
  {
   "cell_type": "code",
   "execution_count": 15,
   "id": "67bbeac5-241c-4c2e-8caa-3099bb31c92d",
   "metadata": {},
   "outputs": [
    {
     "data": {
      "text/latex": [
       "$\\displaystyle \\left(x - 3\\right) \\left(x - 1\\right) \\left(x + 2\\right)$"
      ],
      "text/plain": [
       "(x - 3)*(x - 1)*(x + 2)"
      ]
     },
     "execution_count": 15,
     "metadata": {},
     "output_type": "execute_result"
    }
   ],
   "source": [
    "import sympy \n",
    "from sympy import * \n",
    "\n",
    "var('x y') \n",
    "\n",
    "# Equation set equal to zero, ready to solve\n",
    "#eq = x**2-4\n",
    "eq = x**3 - 2*x**2 - 5*x + 6 \n",
    "\n",
    "sympy.factor(eq)\n"
   ]
  },
  {
   "cell_type": "code",
   "execution_count": 16,
   "id": "fb4ce627-8895-47d7-b0da-df3bdd09c004",
   "metadata": {},
   "outputs": [
    {
     "data": {
      "text/latex": [
       "$\\displaystyle \\left(x - 2\\right) \\left(x^{2} - 3\\right)$"
      ],
      "text/plain": [
       "(x - 2)*(x**2 - 3)"
      ]
     },
     "execution_count": 16,
     "metadata": {},
     "output_type": "execute_result"
    }
   ],
   "source": [
    "import sympy \n",
    "from sympy import * \n",
    "\n",
    "var('x y') \n",
    "\n",
    "# Equation set equal to zero, ready to solve\n",
    "#eq = x**2-4\n",
    "eq = x**3 - 2*x**2 - 5*x + 6 + 2*x\n",
    "\n",
    "sympy.factor(eq)\n"
   ]
  },
  {
   "cell_type": "markdown",
   "id": "9709ef4f-b56d-4df7-8588-9630b1c4a1de",
   "metadata": {},
   "source": [
    "# Exercise examples"
   ]
  },
  {
   "cell_type": "code",
   "execution_count": 17,
   "id": "8366ecd1-dc46-420b-a3b9-8c576eef8528",
   "metadata": {},
   "outputs": [],
   "source": [
    "# converts string input (including fractions) to float\n",
    "def string_frac(in_string):\n",
    "    if \"/\" in in_string:\n",
    "        nd = in_string.split(\"/\")\n",
    "        n = float(nd[0])\n",
    "        d = float(nd[1])\n",
    "        ans = n/d\n",
    "        return ans\n",
    "    else:\n",
    "        ans = float(in_string)\n",
    "        return ans\n",
    "\n",
    "\n",
    "# Simplest one-step addition\n",
    "def one_step_add():\n",
    "    import random\n",
    "    # Display problem\n",
    "    a = random.randint(-4,10)\n",
    "    b = random.randint(2,24)\n",
    "    print(\"x + \", a, \" = \", b) \n",
    "    ans = float(input(\"x = \"))\n",
    "    answer = b-a\n",
    "    # Test input\n",
    "    if ans==answer:\n",
    "        print(\"Correct! \\n\")\n",
    "    else:\n",
    "        print(\"Try again\")\n",
    "        print(\"The correct answer is \", answer, \"\\n\")\n",
    "\n",
    "\n",
    "# One-step additon with negaive numbers\n",
    "def one_step_subtract():\n",
    "    import random\n",
    "    a = random.randint(-19,-1)\n",
    "    b = random.randint(2,24)\n",
    "    print(a, \" + x = \", b)\n",
    "    ans = float(input(\"x = \"))\n",
    "    # test\n",
    "    answer = b-a\n",
    "    if ans==answer:\n",
    "        print(\"Correct! \\n\")\n",
    "    else:\n",
    "        print(\"Try again\")\n",
    "        print(\"The correct answer is \", answer, \"\\n\")\n",
    "\n",
    "# One-step multiply\n",
    "def one_step_mult():\n",
    "    # Uses string_frac(<input string>)\n",
    "    import random\n",
    "    a = random.randint(1,11) \n",
    "    b = random.randint(2,24)\n",
    "    print(a, \"x = \", b) \n",
    "    ans_in = (input(\"x = \"))\n",
    "    answer = b/a\n",
    "    # test\n",
    "    if string_frac(ans_in)==answer:\n",
    "        print(\"Correct! \\n\")\n",
    "    else:\n",
    "        print(\"Try again\")\n",
    "        print(\"The correct answer is \", answer, \"\\n\")"
   ]
  },
  {
   "cell_type": "code",
   "execution_count": null,
   "id": "f72ea19c-bbe6-4d3e-a89d-d209f823328a",
   "metadata": {},
   "outputs": [],
   "source": []
  }
 ],
 "metadata": {
  "kernelspec": {
   "display_name": "Python 3 (ipykernel)",
   "language": "python",
   "name": "python3"
  },
  "language_info": {
   "codemirror_mode": {
    "name": "ipython",
    "version": 3
   },
   "file_extension": ".py",
   "mimetype": "text/x-python",
   "name": "python",
   "nbconvert_exporter": "python",
   "pygments_lexer": "ipython3",
   "version": "3.10.8"
  }
 },
 "nbformat": 4,
 "nbformat_minor": 5
}
