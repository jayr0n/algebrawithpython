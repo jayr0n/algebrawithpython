{
 "cells": [
  {
   "cell_type": "markdown",
   "id": "a5ef8d2a-051f-4e0f-b0e7-ec25338fa9d7",
   "metadata": {},
   "source": [
    "Solving for x. The variable `eq` is the equation set equal to zero. This will print an array of solutions."
   ]
  },
  {
   "cell_type": "code",
   "execution_count": 13,
   "id": "89d67394-b091-4875-8ec9-ca41321a8dd0",
   "metadata": {},
   "outputs": [
    {
     "name": "stdout",
     "output_type": "stream",
     "text": [
      "x =  [2]\n",
      "x =  [4]\n",
      "x =  [5]\n"
     ]
    }
   ],
   "source": [
    "import sympy \n",
    "from sympy import symbols \n",
    "from sympy.solvers import solve \n",
    "\n",
    "x = symbols('x') \n",
    "\n",
    "# Put the equation here\n",
    "eq = 2*x - 4\n",
    "eq2 = x - 4\n",
    "eq3 = 2**x - 32\n",
    "\n",
    "print(\"x = \", solve(eq,x))\n",
    "print(\"x = \", solve(eq2,x))\n",
    "print(\"x = \", solve(eq3,x))\n"
   ]
  },
  {
   "cell_type": "code",
   "execution_count": null,
   "id": "265ced4e-c28c-454c-b677-c17c0376d08b",
   "metadata": {},
   "outputs": [],
   "source": []
  }
 ],
 "metadata": {
  "kernelspec": {
   "display_name": "Python 3 (ipykernel)",
   "language": "python",
   "name": "python3"
  },
  "language_info": {
   "codemirror_mode": {
    "name": "ipython",
    "version": 3
   },
   "file_extension": ".py",
   "mimetype": "text/x-python",
   "name": "python",
   "nbconvert_exporter": "python",
   "pygments_lexer": "ipython3",
   "version": "3.10.8"
  }
 },
 "nbformat": 4,
 "nbformat_minor": 5
}
