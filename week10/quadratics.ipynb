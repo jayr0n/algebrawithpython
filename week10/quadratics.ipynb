{
 "cells": [
  {
   "cell_type": "markdown",
   "id": "68a3cb74-ab2b-4e56-8d86-5c563c4b0851",
   "metadata": {},
   "source": [
    "# Solving quadratic equation"
   ]
  },
  {
   "cell_type": "code",
   "execution_count": 3,
   "id": "9a1e9439-4b20-4fb4-bdf7-a1c8f76482b8",
   "metadata": {},
   "outputs": [
    {
     "name": "stdout",
     "output_type": "stream",
     "text": [
      "y =  1 x**2 +  5 x +  6\n",
      "Vertex: ( -2.5 , -0.25 )\n",
      "Roots: x =  -2.0  and x =  -3.0\n"
     ]
    }
   ],
   "source": [
    "import math\n",
    "\n",
    "# Coefficient values\n",
    "a = 1\n",
    "b = 5\n",
    "c = 6\n",
    "\n",
    "print(\"y = \", a, \"x**2 + \", b, \"x + \", c) \n",
    "\n",
    "# Vertex\n",
    "vx = -b/(2*a) \n",
    "vy = a*(vx**2) + b*vx + c \n",
    "print(\"Vertex: (\",vx,\",\",vy,\")\")\n",
    "\n",
    "# Roots\n",
    "d = b**2 - 4*a*c \n",
    "if d>=0: \n",
    "    root_1 = (-b + math.sqrt(d))/(2*a) \n",
    "    root_2 = (-b - math.sqrt(d))/(2*a) \n",
    "    print(\"Roots: x = \", root_1, \" and x = \", root_2)\n",
    "else:\n",
    "    print(\"No real roots\")"
   ]
  },
  {
   "cell_type": "code",
   "execution_count": null,
   "id": "e58d54a7-720a-4ad5-baf9-d08a01fc73fb",
   "metadata": {},
   "outputs": [],
   "source": []
  }
 ],
 "metadata": {
  "kernelspec": {
   "display_name": "Python 3 (ipykernel)",
   "language": "python",
   "name": "python3"
  },
  "language_info": {
   "codemirror_mode": {
    "name": "ipython",
    "version": 3
   },
   "file_extension": ".py",
   "mimetype": "text/x-python",
   "name": "python",
   "nbconvert_exporter": "python",
   "pygments_lexer": "ipython3",
   "version": "3.10.8"
  }
 },
 "nbformat": 4,
 "nbformat_minor": 5
}
