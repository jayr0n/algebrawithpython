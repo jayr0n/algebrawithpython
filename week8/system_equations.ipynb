{
 "cells": [
  {
   "cell_type": "markdown",
   "id": "ddffe950-8796-4bb2-b6ed-dbbda02dbb26",
   "metadata": {},
   "source": [
    "# Solving two linear equations"
   ]
  },
  {
   "cell_type": "code",
   "execution_count": 1,
   "id": "c2129965-ab05-4df9-a4dc-03cbe7fd64e4",
   "metadata": {},
   "outputs": [
    {
     "name": "stdout",
     "output_type": "stream",
     "text": [
      "{(-1, 3)}\n"
     ]
    }
   ],
   "source": [
    "from sympy import *\n",
    "\n",
    "x,y = symbols('x y')\n",
    "\n",
    "# Equations set equal to zero\n",
    "first = 2*x + y - 1 \n",
    "second = x - 2*y + 7 \n",
    "\n",
    "# The solution\n",
    "print(linsolve([first, second], (x, y))) "
   ]
  },
  {
   "cell_type": "code",
   "execution_count": null,
   "id": "b3f81d75-7489-4942-8970-173bef726597",
   "metadata": {},
   "outputs": [],
   "source": []
  }
 ],
 "metadata": {
  "kernelspec": {
   "display_name": "Python 3 (ipykernel)",
   "language": "python",
   "name": "python3"
  },
  "language_info": {
   "codemirror_mode": {
    "name": "ipython",
    "version": 3
   },
   "file_extension": ".py",
   "mimetype": "text/x-python",
   "name": "python",
   "nbconvert_exporter": "python",
   "pygments_lexer": "ipython3",
   "version": "3.10.12"
  }
 },
 "nbformat": 4,
 "nbformat_minor": 5
}
