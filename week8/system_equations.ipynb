{
 "cells": [
  {
   "cell_type": "markdown",
   "id": "ddffe950-8796-4bb2-b6ed-dbbda02dbb26",
   "metadata": {},
   "source": [
    "# Solving two linear equations"
   ]
  },
  {
   "cell_type": "code",
   "execution_count": 1,
   "id": "c2129965-ab05-4df9-a4dc-03cbe7fd64e4",
   "metadata": {},
   "outputs": [
    {
     "name": "stdout",
     "output_type": "stream",
     "text": [
      "{(-1, 3)}\n"
     ]
    }
   ],
   "source": [
    "from sympy import *\n",
    "\n",
    "x,y = symbols('x y')\n",
    "\n",
    "# Equations set equal to zero\n",
    "first = 2*x + y - 1 \n",
    "second = x - 2*y + 7 \n",
    "\n",
    "# The solution\n",
    "print(linsolve([first, second], (x, y))) "
   ]
  },
  {
   "cell_type": "markdown",
   "id": "359501c8-05a3-42a0-ab36-42b8d9e0a908",
   "metadata": {},
   "source": [
    "# Improving the output"
   ]
  },
  {
   "cell_type": "code",
   "execution_count": 3,
   "id": "b3f81d75-7489-4942-8970-173bef726597",
   "metadata": {},
   "outputs": [
    {
     "name": "stdout",
     "output_type": "stream",
     "text": [
      "( -1 , 3 )\n"
     ]
    }
   ],
   "source": [
    "from sympy import *\n",
    "\n",
    "x,y = symbols('x y')\n",
    "\n",
    "first = 2*x + y - 1 \n",
    "second = x - 2*y + 7 \n",
    "\n",
    "\n",
    "# parse finite set answer as coordinate pair\n",
    "solution = linsolve([first, second], (x, y)) \n",
    "x_solution = solution.args[0][0] \n",
    "y_solution = solution.args[0][1] \n",
    "\n",
    "# Print a coordinate pair\n",
    "print(\"(\", x_solution, \",\", y_solution, \")\") \n"
   ]
  },
  {
   "cell_type": "markdown",
   "id": "8fc9ef8b-294d-4f72-a2d3-cd2735c38d7e",
   "metadata": {},
   "source": [
    "# Solve and graph"
   ]
  },
  {
   "cell_type": "code",
   "execution_count": 8,
   "id": "fda2d054-600a-435a-a337-9b126a7a508b",
   "metadata": {},
   "outputs": [
    {
     "name": "stdout",
     "output_type": "stream",
     "text": [
      "Solution = ( sqrt(6) , 4 )\n",
      "Solution = ( -sqrt(6) , 4 )\n",
      "y =  10 - x**2\n",
      "y =  x**2 - 2\n"
     ]
    },
    {
     "data": {
      "image/png": "[encoded data removed]",
      "text/plain": [
       "<Figure size 432x288 with 1 Axes>"
      ]
     },
     "metadata": {
      "needs_background": "light"
     },
     "output_type": "display_data"
    }
   ],
   "source": [
    "from sympy import *\n",
    "from sympy.plotting import plot\n",
    "from sympy import sqrt\n",
    "import matplotlib.pyplot as plt\n",
    "\n",
    "var('x y') \n",
    "\n",
    "# First equation set equal to zero, ready to solve\n",
    "first = -x**2 - y + 10\n",
    "#first = sqrt(x) - y\n",
    "\n",
    "#Second equation set equal to zero, ready to solve\n",
    "second = 2*x**2 - 2*y - 4\n",
    "#second = -x + 5 - y\n",
    "\n",
    "# Solve - can be linear or nonlinear equations\n",
    "solution = nonlinsolve([first, second], (x, y)) \n",
    "for a in range(len(solution.args)):\n",
    "    x_solution = solution.args[a][0] \n",
    "    y_solution = solution.args[a][1] \n",
    "    print(\"Solution = (\", x_solution, \",\", y_solution, \")\")\n",
    "\n",
    "# Sympy syntax for equation equal to zero, ready to factor\n",
    "y_first = Eq(first,0) \n",
    "y1 = solve(y_first,y) # Sympy solve for y\n",
    "\n",
    "# Same two steps for second equation\n",
    "y_second = Eq(second,0) \n",
    "y2 = solve(y_second,y)\n",
    "\n",
    "# Show factored results\n",
    "print(\"y = \", y1[0])\n",
    "print(\"y = \", y2[0])\n",
    "\n",
    "# Plot solution\n",
    "x = symbols('x')\n",
    "xmin = -10\n",
    "xmax = 10\n",
    "plot(y1[0], y2[0], (x,xmin,xmax))\n",
    "plt.show()"
   ]
  },
  {
   "cell_type": "code",
   "execution_count": null,
   "id": "8fb24441-c968-467a-8e15-fcfe27cb225e",
   "metadata": {},
   "outputs": [],
   "source": []
  }
 ],
 "metadata": {
  "kernelspec": {
   "display_name": "Python 3 (ipykernel)",
   "language": "python",
   "name": "python3"
  },
  "language_info": {
   "codemirror_mode": {
    "name": "ipython",
    "version": 3
   },
   "file_extension": ".py",
   "mimetype": "text/x-python",
   "name": "python",
   "nbconvert_exporter": "python",
   "pygments_lexer": "ipython3",
   "version": "3.10.12"
  }
 },
 "nbformat": 4,
 "nbformat_minor": 5
}
