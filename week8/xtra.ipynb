{
 "cells": [
  {
   "cell_type": "markdown",
   "id": "93693105-ee12-4530-9718-4c01795bcf4a",
   "metadata": {},
   "source": [
    "# Slope-intercept equation from two points"
   ]
  },
  {
   "cell_type": "code",
   "execution_count": 2,
   "id": "d2aab2fe-796e-4836-b514-e8f806d950bc",
   "metadata": {},
   "outputs": [
    {
     "data": {
      "application/vnd.jupyter.widget-view+json": {
       "model_id": "3c0e75b709f04e849f8e68a92186630c",
       "version_major": 2,
       "version_minor": 0
      },
      "text/plain": [
       "interactive(children=(IntSlider(value=50, description='zoom', min=1), Output()), _dom_classes=('widget-interac…"
      ]
     },
     "execution_count": 2,
     "metadata": {},
     "output_type": "execute_result"
    }
   ],
   "source": [
    "%matplotlib inline\n",
    "from ipywidgets import interactive\n",
    "import matplotlib.pyplot as plt\n",
    "import numpy as np\n",
    "\n",
    "# Define the graphing function\n",
    "def f(zoom):\n",
    "    xmin = -zoom\n",
    "    xmax = zoom\n",
    "    ymin = -zoom\n",
    "    ymax = zoom\n",
    "    points = 10*xmax-xmin\n",
    "    x = np.linspace(xmin, xmax, points)\n",
    "\n",
    "    fig, ax = plt.subplots()\n",
    "    plt.axis([xmin,xmax,ymin,ymax]) # window size\n",
    "    plt.plot([xmin,xmax],[0,0],'black') # black x axis\n",
    "    plt.plot([0,0],[ymin,ymax], 'black') # black y axis\n",
    "\n",
    "    # Change y1 to be any function\n",
    "    y1 = 3*x\n",
    "    plt.plot(x, y1)\n",
    "    # Plot another line here if you want\n",
    "    # y2 =\n",
    "    # plt.plot(x, y2)\n",
    "\n",
    "    ax.set_xlabel(\"x values\")\n",
    "    ax.set_ylabel(\"y values\")\n",
    "    ax.set_title(\"Some Graph\")\n",
    "    ticks = int(round((xmax-xmin)/10))\n",
    "    ax.set_xticks(np.arange(xmin, xmax, ticks))\n",
    "    ax.set_yticks(np.arange(ymin, ymax, ticks))\n",
    "    ax.grid(True)\n",
    "    plt.show()\n",
    "\n",
    "# Set up the slider\n",
    "interactive_plot = interactive(f, zoom=(1,100))\n",
    "interactive_plot\n"
   ]
  },
  {
   "cell_type": "markdown",
   "id": "ec2652cb-8674-41a3-91c8-63fd9b2ce9fc",
   "metadata": {},
   "source": [
    "# Investment annuity estimator"
   ]
  },
  {
   "cell_type": "code",
   "execution_count": 6,
   "id": "2d85f4d7-052b-430c-b1e4-a90588454590",
   "metadata": {},
   "outputs": [
    {
     "name": "stdout",
     "output_type": "stream",
     "text": [
      "annuity =  1061597.32\n",
      "Annual income from interest =  84927.79\n"
     ]
    }
   ],
   "source": [
    "# Change these variables\n",
    "p = 1000\n",
    "r = .08\n",
    "t = 38\n",
    "monthly = 350\n",
    "\n",
    "# The loop will update this variable\n",
    "annuity = p\n",
    "\n",
    "# loop for contribution and percent growth\n",
    "for a in range(12*t):\n",
    "    annuity = (annuity+monthly)*(1+(r/12))\n",
    "\n",
    "print(\"annuity = \", round(annuity, 2))\n",
    "print(\"Annual income from interest = \", round(annuity*r, 2))"
   ]
  },
  {
   "cell_type": "code",
   "execution_count": null,
   "id": "1f0dba88-d26b-49e7-9239-77e3e5c23c98",
   "metadata": {},
   "outputs": [],
   "source": []
  }
 ],
 "metadata": {
  "kernelspec": {
   "display_name": "Python 3 (ipykernel)",
   "language": "python",
   "name": "python3"
  },
  "language_info": {
   "codemirror_mode": {
    "name": "ipython",
    "version": 3
   },
   "file_extension": ".py",
   "mimetype": "text/x-python",
   "name": "python",
   "nbconvert_exporter": "python",
   "pygments_lexer": "ipython3",
   "version": "3.10.12"
  }
 },
 "nbformat": 4,
 "nbformat_minor": 5
}
