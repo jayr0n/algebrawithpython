{
 "cells": [
  {
   "cell_type": "markdown",
   "id": "802bb13e-1279-4751-be67-5b0405f9b397",
   "metadata": {},
   "source": [
    "# Reduce fractions to lowest terms"
   ]
  },
  {
   "cell_type": "code",
   "execution_count": 2,
   "id": "fd9c9108-fda3-4413-9af3-4bf38a2d54d9",
   "metadata": {},
   "outputs": [
    {
     "name": "stdout",
     "output_type": "stream",
     "text": [
      "original:  12 / 24\n",
      "reduced:  1 / 2\n"
     ]
    }
   ],
   "source": [
    "numerator = 12\n",
    "denominator = 24\n",
    "factor = 1\n",
    "\n",
    "# Find greatest common factor \n",
    "for test_factor in range(1,denominator+1): \n",
    "    if numerator%test_factor==0 and denominator%test_factor==0:\n",
    "        factor = test_factor \n",
    "\n",
    "# Divide out greatest common factor \n",
    "n = int(numerator/factor) \n",
    "d = int(denominator/factor) \n",
    "\n",
    "print(\"original: \", numerator, \"/\", denominator) \n",
    "print(\"reduced: \", n, \"/\", d) \n"
   ]
  },
  {
   "cell_type": "markdown",
   "id": "1a417095-af80-4334-adf5-7c821c7ce847",
   "metadata": {},
   "source": [
    "# You can add this code to the decimal-to-fraction code"
   ]
  },
  {
   "cell_type": "code",
   "execution_count": null,
   "id": "ca005ceb-4f47-43e0-813a-17737a38679d",
   "metadata": {},
   "outputs": [
    {
     "name": "stdin",
     "output_type": "stream",
     "text": [
      "Enter a decimal number to convert:  0.2\n"
     ]
    },
    {
     "name": "stdout",
     "output_type": "stream",
     "text": [
      "The decimal is  0.2\n",
      "The fraction is  1 / 5\n"
     ]
    }
   ],
   "source": [
    "# Get the decimal number to convert\n",
    "digits = input(\"Enter a decimal number to convert: \") \n",
    "\n",
    "# Convert to fraction \n",
    "exponent = int(len(digits))-1 \n",
    "n = float(digits) \n",
    "numerator = int(n * 10**exponent) \n",
    "denominator = 10**exponent \n",
    "\n",
    "# Reduce that fraction\n",
    "factor = 1 \n",
    "for test_factor in range(1,denominator+1): \n",
    "    if numerator%test_factor==0 and denominator%test_factor==0: \n",
    "        factor = test_factor \n",
    "\n",
    "# Divide out greatest common factor \n",
    "num = int(numerator/factor) \n",
    "den = int(denominator/factor) \n",
    "\n",
    "# Output \n",
    "print(\"The decimal is \", n) \n",
    "print(\"The fraction is \", num, \"/\", den) "
   ]
  },
  {
   "cell_type": "markdown",
   "id": "53191f97-2527-4af5-8a08-982c0cb01a3e",
   "metadata": {},
   "source": [
    "# Factoring square roots\n",
    "\n",
    "Divide out any perfect square factors. For example:<br>\n",
    " $\\sqrt{12}$ = $\\sqrt{4 * 3}$ = 2$\\sqrt{3}$<br>\n",
    "Because 4 is a square number, the square root of 4 is now outside the radical."
   ]
  },
  {
   "cell_type": "code",
   "execution_count": 5,
   "id": "7848c7fa-137c-42ab-b1f4-a6e47c596af5",
   "metadata": {},
   "outputs": [
    {
     "name": "stdout",
     "output_type": "stream",
     "text": [
      "n =  12\n",
      "Square rooted factor =  2\n",
      "Square factor =  4\n",
      "integer:  3.0\n"
     ]
    }
   ],
   "source": [
    "import math\n",
    "\n",
    "# number to factor\n",
    "n = 12 \n",
    "\n",
    "# This variable will change\n",
    "max_factor = 1 \n",
    "\n",
    "# The key ingredient\n",
    "upper_limit = math.floor(math.sqrt(n)) + 1 \n",
    "\n",
    "# Find square factors\n",
    "for maybe_factor in range(1,upper_limit): \n",
    "    if n % (maybe_factor**2) == 0: \n",
    "        max_factor = maybe_factor \n",
    "\n",
    "# Results so far\n",
    "print(\"n = \", n) \n",
    "print(\"Square rooted factor = \", max_factor) \n",
    "print(\"Square factor = \", max_factor**2) \n",
    "print(\"integer: \", n/(max_factor**2)) "
   ]
  },
  {
   "cell_type": "markdown",
   "id": "73f47340-d447-4ea2-9d76-6cc3e3a97398",
   "metadata": {},
   "source": [
    "# Using Sympy "
   ]
  },
  {
   "cell_type": "code",
   "execution_count": 6,
   "id": "36f96b36-d4f3-4807-8dc6-301752d188d6",
   "metadata": {},
   "outputs": [
    {
     "data": {
      "text/latex": [
       "$\\displaystyle 2 \\sqrt{6}$"
      ],
      "text/plain": [
       "2*sqrt(6)"
      ]
     },
     "execution_count": 6,
     "metadata": {},
     "output_type": "execute_result"
    }
   ],
   "source": [
    "import math\n",
    "import sympy\n",
    "from sympy import symbols\n",
    "\n",
    "n = 24 \n",
    "\n",
    "# Use these variables\n",
    "upper_limit = math.floor(math.sqrt(n)) + 1 \n",
    "max_factor = 1 \n",
    "other_factor = 1 \n",
    "square_root = 1 \n",
    "\n",
    "# Slightly different variable strategy\n",
    "for maybe_factor in range(1, upper_limit): \n",
    "    if n % (maybe_factor**2) == 0: \n",
    "        max_factor = maybe_factor**2 \n",
    "\n",
    "# Divide out the greatest square factor\n",
    "other_factor = n/max_factor \n",
    "\n",
    "# Output variables\n",
    "square_root = int(math.sqrt(max_factor)) \n",
    "other_factor = int(other_factor) \n",
    "output = square_root*sympy.sqrt(other_factor) \n",
    "\n",
    "# Sympy output without print statement - must be last line\n",
    "output "
   ]
  },
  {
   "cell_type": "code",
   "execution_count": null,
   "id": "44679379-b110-4c31-8270-27c03055804f",
   "metadata": {},
   "outputs": [],
   "source": []
  }
 ],
 "metadata": {
  "kernelspec": {
   "display_name": "Python 3 (ipykernel)",
   "language": "python",
   "name": "python3"
  },
  "language_info": {
   "codemirror_mode": {
    "name": "ipython",
    "version": 3
   },
   "file_extension": ".py",
   "mimetype": "text/x-python",
   "name": "python",
   "nbconvert_exporter": "python",
   "pygments_lexer": "ipython3",
   "version": "3.10.12"
  }
 },
 "nbformat": 4,
 "nbformat_minor": 5
}
