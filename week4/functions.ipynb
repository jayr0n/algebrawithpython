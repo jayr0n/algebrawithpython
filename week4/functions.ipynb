{
 "cells": [
  {
   "cell_type": "markdown",
   "id": "0ef671c0-3238-4e59-b449-4d5aefe3e89d",
   "metadata": {},
   "source": [
    "# Function and a table of (x,y) values"
   ]
  },
  {
   "cell_type": "code",
   "execution_count": 1,
   "id": "5817d451-2716-4be3-8475-a563ec71206a",
   "metadata": {},
   "outputs": [
    {
     "name": "stdout",
     "output_type": "stream",
     "text": [
      "5 , 23\n",
      "x \t y\n",
      "0 \t 3\n",
      "1 \t 7\n",
      "2 \t 11\n",
      "3 \t 15\n",
      "4 \t 19\n",
      "5 \t 23\n",
      "6 \t 27\n",
      "7 \t 31\n",
      "8 \t 35\n",
      "9 \t 39\n",
      "10 \t 43\n"
     ]
    }
   ],
   "source": [
    "x = 5\n",
    "y = 4*x + 3 # The function \n",
    "\n",
    "print(x,\",\",y)\n",
    "\n",
    "print(\"x \\t y\") \n",
    "\n",
    "for x in range(11):\n",
    "    y = 4*x + 3  # The function\n",
    "    print(x, \"\\t\", y)\n",
    "\n"
   ]
  },
  {
   "cell_type": "markdown",
   "id": "6c9a7ecf-70cd-4c62-acea-c08a961049be",
   "metadata": {},
   "source": [
    "# Defning a Python function"
   ]
  },
  {
   "cell_type": "code",
   "execution_count": 3,
   "id": "d087eced-6c80-4f28-b86f-956cd1f2c447",
   "metadata": {},
   "outputs": [
    {
     "name": "stdout",
     "output_type": "stream",
     "text": [
      "5 , 23\n",
      "0 \t 3\n",
      "1 \t 7\n",
      "2 \t 11\n",
      "3 \t 15\n",
      "4 \t 19\n",
      "5 \t 23\n",
      "6 \t 27\n",
      "7 \t 31\n",
      "8 \t 35\n",
      "9 \t 39\n",
      "10 \t 43\n"
     ]
    }
   ],
   "source": [
    "def f(x):\n",
    "    y = 4*x + 3\n",
    "    return y\n",
    "\n",
    "print(5, \",\", f(5)) \n",
    "\n",
    "# Next, a loop\n",
    "for x in range(11):\n",
    "    print(x, \"\\t\", f(x)) "
   ]
  },
  {
   "cell_type": "code",
   "execution_count": null,
   "id": "1ac6c4a9-7c84-47ba-98f7-a4f4c6f51c7f",
   "metadata": {},
   "outputs": [],
   "source": []
  }
 ],
 "metadata": {
  "kernelspec": {
   "display_name": "Python 3 (ipykernel)",
   "language": "python",
   "name": "python3"
  },
  "language_info": {
   "codemirror_mode": {
    "name": "ipython",
    "version": 3
   },
   "file_extension": ".py",
   "mimetype": "text/x-python",
   "name": "python",
   "nbconvert_exporter": "python",
   "pygments_lexer": "ipython3",
   "version": "3.10.12"
  }
 },
 "nbformat": 4,
 "nbformat_minor": 5
}
